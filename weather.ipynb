{
 "cells": [
  {
   "cell_type": "markdown",
   "metadata": {},
   "source": [
    "# Computer Infrastructure - Tasks Report\n",
    "##### Author: E. Qejvani\n",
    "\n",
    "This notebook holds the steps taken to complete the tasks in Computer Infrastructure module - ATU 2024\n",
    "***"
   ]
  },
  {
   "cell_type": "markdown",
   "metadata": {},
   "source": [
    "#### Task 1:  Create Directory Structure.\n",
    "\n",
    "<em>Using the command line, create a directory (that is, a folder) named data at the root of your repository. Inside data, create two subdirectories: timestamps and weather.</em>\n",
    "***\n",
    "**Steps Taken to Complete the Task:**\n",
    "\n",
    "1. Logged into my GitHub account.\n",
    "2. Started Codespaces on GitHub.\n",
    "3. Created two directories within the data parent directory using the following commands:\n",
    "    - `mkdir -p data/weather`\n",
    "        (The -p flag ensures the data directory is created as a parent, with weather nested inside it).\n",
    "    - `mkdir data/timestamps`\n",
    "        (This command creates the timestamps directory within the data directory).\n",
    "\n",
    "<img src=\"./img/task1.png\" alt=\"Task 1\">\n",
    "\n",
    "**Notes on Completing the Task**\n",
    "* I referred to the Week 5 video lessons by Ian McLoughlin to guide me through the process.\n",
    "* It made sure I was in the root of my account within Codespaces to create the directories in the correct location.\n",
    "* I practiced creating and deleting the directories multiple times to familiarize myself with saving changes to my GitHub account."
   ]
  },
  {
   "cell_type": "markdown",
   "metadata": {},
   "source": [
    "***\n",
    "#### Task 2: Timestamps.\n",
    "\n",
    "<em>Navigate to the data/timestamps directory. Use the date command to output the current date and time, appending the output to a file named now.txt. Make sure to use the >> operator to append (not overwrite) the file. Repeat this step ten times, then use the more command to verify that now.txt has the expected content.</em>\n",
    "***\n",
    "**Steps Taken to Complete the Task:**\n",
    "\n",
    "1. Logged into my GitHub account.\n",
    "2. Started Codespaces.\n",
    "3. Navigated to the data/timestamps directory.\n",
    "4. Practiced displaying the year using the following command: `date +\"%Y\"`\n",
    "    * (This command outputs the current year. See task2.png for reference).\n",
    "5. Practiced displaying the full date and time in the format YYYY/MM/DD HH:MM:SS using: `date +\"%Y/%m/%d %H:%M:%S\"`\n",
    "6. Ran the same command again but redirected the output to a file named now.txt: `date +\"%Y/%m/%d %H:%M:%S\" > now.txt`\n",
    "7. I used the >> operator to run the command 9 more times (10 total as required), appending each output to the now.txt file.\n",
    "8. Next I used `the more now.txt` command to display the contents of the file to check the command was working as it should(See image attached).\n",
    "\n",
    "<img src=\"./img/task2.png\" alt=\"Task 2\">\n",
    "\n",
    "**Notes on Completing the Task:**\n",
    "* The task did not specify a required date format, so I chose the format myself."
   ]
  },
  {
   "cell_type": "markdown",
   "metadata": {},
   "source": [
    "***\n",
    "#### Task 3: Formatting Timestamps.\n",
    "\n",
    "<em>Run the date command again, but this time format the output using YYYYmmdd_HHMMSS (e.g., 20261114_130003 for 1:00:03 PM on November 14, 2026). Refer to the date man page (using man date) for more formatting options. (Press q to exit the man page). Append the formatted output to a file named formatted.txt.</em>\n",
    "***\n",
    "\n",
    "**Steps Taken to Complete the Task:**\n",
    "\n",
    "1. Logged to my github account.\n",
    "2. Started codespaces.\n",
    "3. Navigated to data/timestamps directory.\n",
    "4. First practiced to display the date using the command: date + \"%Y%m%d_%H%M%s\".\n",
    "5. I run the command again creating and appending a file 'formatted.txt' and adding the output to that file.\n",
    "6. Checked that the file existed and last time it was edited using the command 'date -r formatted.txt' (see the picture attached).\n",
    "\n",
    "<img src=\"./img/task3.png\" alt=\"Task 3\">\n"
   ]
  },
  {
   "cell_type": "markdown",
   "metadata": {},
   "source": [
    "***\n",
    "#### Task 4: Create Timestamped Files\n",
    "\n",
    "<em>Use the touch command to create an empty file with a name in the YYYYmmdd_HHMMSS.txt format. You can achieve this by embedding your date command in backticks ` into the touch command. You should no longer use redirection (>>) in this step.</em>\n",
    "\n",
    "**Steps Taken to Complete the Task:**\n",
    "\n",
    "1. Logged to my github/codespaces account.\n",
    "2. Navigated to the data/timestamps directory.\n",
    "3. Run the command: touch 'date + \"%Y%m%d_%H%M%s\"'.txt\n",
    "4. The touch command creates a new text file and the 'date + \"%Y%m%d_%H%M%s\"' sets the name of the file created to the current date & time.\n",
    "5. Checked the content of the folder timestamps using the ls command if the file was created.\n",
    "\n",
    "\n",
    "<img src=\"./img/task4.png\" alt=\"Task 4\" style=\"width: 700px\">\n",
    "\n",
    "**Notes on Completing the Task:**\n",
    "\n",
    "* 'touch' command is a very useful Linux command, it can create one or multiple empty text files in the same time if needed. I tried to use the command with some other options like:\n",
    "    - ```touch file1.txt file2.txt file3.txt``` - creating multiple files in the same time.\n",
    "    - ```touch -c filename``` - prevent the creation of a new file if it does exist.\n",
    "    - ```touch -a document.txt``` - update only the access time of document.txt.\n",
    "    - ```touch -m file.txt``` - update only the modification time of the file.\n",
    "\n",
    "Reference: https://www.serveracademy.com/blog/how-to-use-the-touch-command-in-linux/"
   ]
  },
  {
   "cell_type": "markdown",
   "metadata": {},
   "source": [
    "***\n",
    "#### Task 5\n",
    "\n",
    "- Picture 1\n",
    "\n",
    "<img src=\"./img/task5-1.png\" alt=\"Task 5.1\" style=\"width: 700px;\"/>\n",
    "\n",
    "\n",
    "- Picture 2\n",
    "\n",
    "<img src=\"./img/task5-2.png\" alt=\"Task 5.2\" style=\"width: 700px\">\n",
    "\n",
    "\n",
    "- Picture 3\n",
    "\n",
    "<img src=\"./img/task5-3.png\" alt=\"Task 5.3\" style=\"width: 700px\">\n"
   ]
  },
  {
   "cell_type": "markdown",
   "metadata": {},
   "source": [
    "### Task 6\n",
    "\n",
    "- Picture 1\n",
    "\n",
    "<img src=\"./img/task6-1.png\" alt=\"Task 6.1\" style=\"width: 700px\">\n",
    "\n",
    "- Picture 2\n",
    "\n",
    "<img src=\"./img/task6-2.png\" alt=\"Task 6.2\" style=\"width: 700px\">\n",
    "\n",
    "- Picture 3 - Using 'curl' command.\n",
    "\n",
    "<img src=\"./img/task6-3.png\" alt=\"Task 6.3\" style=\"width: 700px\">"
   ]
  },
  {
   "cell_type": "markdown",
   "metadata": {},
   "source": [
    "### Notes on the project.\n",
    "\n",
    "- While working in task 2 I couldn't display the images on github. To fix that I had to change the repository from private to public."
   ]
  },
  {
   "cell_type": "markdown",
   "metadata": {},
   "source": [
    "### References:\n",
    "\n",
    "- Creating files using touch command: https://www.geeksforgeeks.org/touch-command-in-linux-with-examples/\n",
    "- Displaying a .json file in terminal(bash): https://linuxopsys.com/read-json-file-in-shell-script\n",
    "- Working with images - resizing: https://stackoverflow.com/questions/41598916/resize-the-image-in-jupyter-notebook-using-markdown\n"
   ]
  }
 ],
 "metadata": {
  "kernelspec": {
   "display_name": "base",
   "language": "python",
   "name": "python3"
  },
  "language_info": {
   "codemirror_mode": {
    "name": "ipython",
    "version": 3
   },
   "file_extension": ".py",
   "mimetype": "text/x-python",
   "name": "python",
   "nbconvert_exporter": "python",
   "pygments_lexer": "ipython3",
   "version": "3.12.7"
  }
 },
 "nbformat": 4,
 "nbformat_minor": 2
}
