{
 "cells": [
  {
   "cell_type": "markdown",
   "metadata": {},
   "source": [
    "## Computer Infrastructure - Tasks Report\n",
    "##### Author: E. Qejvani\n",
    "\n",
    "This notebook holds the steps taken to complete the tasks in Computer Infrastructure module - ATU 2024\n",
    "***\n",
    "\n",
    "\n",
    "#### Task 1:  Create Directory Structure.\n",
    "\n",
    "The following are the steps I made to complete this task:\n",
    "- Logged in my github account.\n",
    "- Started codespaces on github.\n",
    "- Created two directories in data parent directory using the following commands:\n",
    "    - mkdir -p data/weather ( mkdir -p creates data directory as a parent directory with weather directory inside it).\n",
    "    - mkdir data/timestamps ( created timestamps directory inside data directory).\n",
    "\n",
    "<img src=\"./img/task1.png\" alt=\"Task 1\">\n",
    "\n",
    "_Notes on completing the task:_\n",
    "- To complete this task I followed the video lessons of week 5 by Ian McLoughlin. \n",
    "- I had to be sure to be in the root of my account in codespaces so the directories were created there.\n",
    "- I created and deleted the directories a few times because it took me sometime to practice how to save changes in my github account."
   ]
  },
  {
   "cell_type": "markdown",
   "metadata": {},
   "source": [
    "***\n",
    "#### Task 2: Timestamps.\n",
    "\n",
    "Steps to complete the task:\n",
    "- Logging to my github account.\n",
    "- Started codespaces.\n",
    "- Navigated to data/timestamps directory.\n",
    "- First practiced to display the date using the command: date + \"%Y\" (the command displayes the year. See 'task2.png')\n",
    "- Practiced displaying the full date/time format using command: date + \"%Y/%m/%d %H:%M:%S\" (format: YYYY/MM/DD HH:MM:DD)\n",
    "- I run again the command, but this time writing its output to a file now.txt.\n",
    "- Using '>>' I run the command 9 more times (10 times in total, as per requirements) to append the output to the now.txt file (see picture attached.)\n",
    "\n",
    "<img src=\"./img/task2.png\" alt=\"Task 2\">\n",
    "\n",
    "_Notes on completing the task:_\n",
    "- The task didn't ask specifically what format the date should have been so I decided in the format."
   ]
  },
  {
   "cell_type": "markdown",
   "metadata": {},
   "source": [
    "***\n",
    "#### Task 3: Formatting Timestamps.\n",
    "\n",
    "Steps to complete the task:\n",
    "- Logged to my github account.\n",
    "- Started codespaces.\n",
    "- Navigated to data/timestamps directory.\n",
    "- First practiced to display the date using the command: date + \"%Y%m%d_%H%M%s\".\n",
    "- I run the command again creating and appending a file 'formatted.txt' and adding the output to that file.\n",
    "- Checked that the file existed and last time it was edited using the command 'date -r formatted.txt' (see the picture attached).\n",
    "\n",
    "<img src=\"./img/task3.png\" alt=\"Task 3\">\n"
   ]
  },
  {
   "cell_type": "markdown",
   "metadata": {},
   "source": [
    "### Notes on the project.\n",
    "\n",
    "- While working in task 2 I couldn't display the images on github. To fix that I had to change the repository from private to public."
   ]
  },
  {
   "cell_type": "markdown",
   "metadata": {},
   "source": [
    "### References:\n",
    "\n",
    "- Creating files using touch command: https://www.geeksforgeeks.org/touch-command-in-linux-with-examples/\n"
   ]
  }
 ],
 "metadata": {
  "kernelspec": {
   "display_name": "base",
   "language": "python",
   "name": "python3"
  },
  "language_info": {
   "codemirror_mode": {
    "name": "ipython",
    "version": 3
   },
   "file_extension": ".py",
   "mimetype": "text/x-python",
   "name": "python",
   "nbconvert_exporter": "python",
   "pygments_lexer": "ipython3",
   "version": "3.12.7"
  }
 },
 "nbformat": 4,
 "nbformat_minor": 2
}
