{
 "cells": [
  {
   "cell_type": "markdown",
   "metadata": {},
   "source": [
    "## Computer Infrastructure - Tasks Report\n",
    "##### Author: E. Qejvani\n",
    "\n",
    "This notebook holds the steps taken to complete the tasks in Computer Infrastructure module - ATU 2024\n",
    "***\n",
    "\n",
    "\n",
    "#### Task 1:  Create Directory Structure.\n",
    "\n",
    "The following are the steps I made to complete this task:\n",
    "- Logged in my github account.\n",
    "- Started codespaces on github.\n",
    "- Created two directories in data parent directory using the following commands:\n",
    "    - mkdir -p data/weather ( mkdir -p creates data directory as a parent directory with weather directory inside it).\n",
    "    - mkdir data/timestamps ( created timestamps directory inside data directory).\n",
    "\n",
    "![Task1](/img/task1.png)\n",
    "\n",
    "_Notes on completing the task:_\n",
    "- To complete this task I followed the video lessons of week 5 by Ian McLoughlin. \n",
    "- I had to be sure to be in the root of my account in codespaces so the directories were created there.\n",
    "- I created and deleted the directories a few times because it took me sometime to practice how to save changes in my github account."
   ]
  },
  {
   "cell_type": "markdown",
   "metadata": {},
   "source": [
    "***\n",
    "#### Task 2: Timestamps.\n",
    "\n",
    "Step to complete the task:\n",
    "- Logging to my github account.\n",
    "- Started codespaces.\n",
    "- Navigated to data/timestamps directory.\n",
    "- First practiced to display the date using the command: date + \"%Y\" (the command displayes the year. See 'task2.png')\n",
    "- Practiced displaying the full date/time format using command: date + \"%Y/%m/%d %H:%M:%S\" (format: YYYY/MM/DD HH:MM:DD)\n",
    "- I run again the command, but this time writing its output to a file now.txt.\n",
    "- Using '>>' I run the command 9 more times (10 times in total, as per requirements) to append the output to the now.txt file (see picture attached.)\n",
    "\n",
    "![Task2](/img/task2.png)\n",
    "\n",
    "_Notes on completing the task:_\n",
    "- The task didn't ask specifically what format the date should have been so I decided in the format."
   ]
  },
  {
   "cell_type": "markdown",
   "metadata": {},
   "source": [
    "***\n",
    "#### Task 3: Formatting Timestamps.\n",
    "\n"
   ]
  }
 ],
 "metadata": {
  "language_info": {
   "name": "python"
  }
 },
 "nbformat": 4,
 "nbformat_minor": 2
}
