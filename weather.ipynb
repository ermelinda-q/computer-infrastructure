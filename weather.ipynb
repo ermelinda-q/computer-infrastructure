{
 "cells": [
  {
   "cell_type": "markdown",
   "metadata": {},
   "source": [
    "## Computer Infrastructure - Tasks Report\n",
    "\n",
    "This notebook holds the steps taken to complete the tasks in Computer Infrastructure module - ATU 2024\n",
    "***\n",
    "\n",
    "\n",
    "#### Task 1:  Create Directory Structure.\n",
    "\n",
    "The following are the steps I made to complete this task:\n",
    "- Logged in my github account.\n",
    "- Started codespaces on github.\n",
    "- Created two directories in data parent directory using the following commands:\n",
    "    - mkdir -p data/weather ( mkdir -p creates data directory as a parent directory with weather directory inside it).\n",
    "    - mkdir data/timestamps ( created timestamps directory inside data directory).\n",
    "\n",
    "![Task1](img/task1.png)"
   ]
  },
  {
   "cell_type": "markdown",
   "metadata": {},
   "source": [
    "***\n",
    "#### Task 2: Timestamps.\n",
    "\n",
    "![Task2](img/task2.png)"
   ]
  },
  {
   "cell_type": "markdown",
   "metadata": {},
   "source": [
    "***\n",
    "#### Task 3: Formatting Timestamps.\n",
    "\n"
   ]
  }
 ],
 "metadata": {
  "language_info": {
   "name": "python"
  }
 },
 "nbformat": 4,
 "nbformat_minor": 2
}
